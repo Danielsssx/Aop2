{
  "nbformat": 4,
  "nbformat_minor": 0,
  "metadata": {
    "colab": {
      "provenance": [],
      "authorship_tag": "ABX9TyPpGTj88j2wu5kDM0QJWmmj",
      "include_colab_link": true
    },
    "kernelspec": {
      "name": "python3",
      "display_name": "Python 3"
    },
    "language_info": {
      "name": "python"
    }
  },
  "cells": [
    {
      "cell_type": "markdown",
      "metadata": {
        "id": "view-in-github",
        "colab_type": "text"
      },
      "source": [
        "<a href=\"https://colab.research.google.com/github/Danielsssx/Aop2/blob/main/Aop2.ipynb\" target=\"_parent\"><img src=\"https://colab.research.google.com/assets/colab-badge.svg\" alt=\"Open In Colab\"/></a>"
      ]
    },
    {
      "cell_type": "code",
      "source": [
        "medias_por_cliente = calc.calcMedia()\n",
        "for cliente, media in medias_por_cliente.items():\n",
        "    print(f\"Média de gastos para {cliente}: R${media:.2f}\")"
      ],
      "metadata": {
        "colab": {
          "base_uri": "https://localhost:8080/"
        },
        "id": "3Lq4nBBjseOH",
        "outputId": "6f48f8ed-625d-4a32-aa4a-b1525172b1f0"
      },
      "execution_count": 25,
      "outputs": [
        {
          "output_type": "stream",
          "name": "stdout",
          "text": [
            "Média de gastos para Daniel: R$103.33\n",
            "Média de gastos para Dayane: R$77.50\n",
            "Média de gastos para Diana: R$40.00\n"
          ]
        }
      ]
    },
    {
      "cell_type": "code",
      "source": [
        "print(VerificarParenteses(expressao1))\n",
        "print(VerificarParenteses(expressao2))\n",
        "print(VerificarParenteses(expressao3))\n",
        "print(VerificarParenteses(expressao4))\n",
        "print(VerificarParenteses(expressao5))\n",
        "print(VerificarParenteses(expressao6))\n",
        "print(VerificarParenteses(expressao7))"
      ],
      "metadata": {
        "colab": {
          "base_uri": "https://localhost:8080/"
        },
        "id": "vciNobBgvpXz",
        "outputId": "d688c976-0bd3-4cb7-9727-acd28ee9c090"
      },
      "execution_count": 26,
      "outputs": [
        {
          "output_type": "stream",
          "name": "stdout",
          "text": [
            "True\n",
            "True\n",
            "True\n",
            "False\n",
            "False\n",
            "False\n",
            "False\n"
          ]
        }
      ]
    },
    {
      "cell_type": "code",
      "execution_count": 16,
      "metadata": {
        "id": "d2Qq-v-WgkGi"
      },
      "outputs": [],
      "source": [
        "class Node:\n",
        "    def __init__(self, data=0, proximo = None):\n",
        "        self.data = data\n",
        "        self.proximo = proximo\n",
        "\n",
        "    def __repr__(self):\n",
        "        return f'{self.data} -> {self.proximo}'\n",
        "\n"
      ]
    },
    {
      "cell_type": "code",
      "source": [
        "class Cliente():\n",
        "    def __init__(self, nome, valorDaConta):\n",
        "        self.nome = nome\n",
        "        self.valorDaConta = valorDaConta\n",
        "        self.historico_gastos = [valorDaConta]\n",
        "\n",
        "    def adicionar_gasto(self, valor):\n",
        "        self.historico_gastos.append(valor)\n",
        "\n",
        "    def calcMediaGastos(self):\n",
        "        if not self.historico_gastos:\n",
        "            return 0\n",
        "        return sum(self.historico_gastos) / len(self.historico_gastos)\n",
        "\n",
        "    def __repr__(self):\n",
        "        return f'{self.nome} - {self.valorDaConta}'\n",
        "\n"
      ],
      "metadata": {
        "id": "L1FmYmyYsTjK"
      },
      "execution_count": 17,
      "outputs": []
    },
    {
      "cell_type": "code",
      "source": [
        "class Lista:\n",
        "    def __init__(self):\n",
        "        self.head = None\n",
        "        self.tamanhodalista = 0\n",
        "\n",
        "    def insere(self, novoDado):\n",
        "        novoNodo = Node(novoDado)\n",
        "        novoNodo.proximo = self.head\n",
        "        self.head = novoNodo\n",
        "        self.tamanhodalista += 1\n",
        "\n",
        "    def delete(self):\n",
        "        if self.head == None:\n",
        "            print('A lista esta vazia')\n",
        "        else:\n",
        "            self.head = self.head.proximo\n",
        "            self.tamanhodalista -= 1\n",
        "\n",
        "\n",
        "\n"
      ],
      "metadata": {
        "id": "nQaou7nnsWv_"
      },
      "execution_count": 18,
      "outputs": []
    },
    {
      "cell_type": "code",
      "source": [
        "class CalMedia:\n",
        "    def __init__(self):\n",
        "        self.lista_clientes = Lista()\n",
        "\n",
        "    def adicionarCliente(self, cliente):\n",
        "        self.lista_clientes.insere(cliente)\n",
        "\n",
        "    def calcMedia(self):\n",
        "        medias = {}\n",
        "        Node_cliente = self.lista_clientes.head\n",
        "        while Node_cliente is not None:\n",
        "            cliente = Node_cliente.data\n",
        "            media = cliente.calcMediaGastos()\n",
        "            medias[cliente.nome] = media\n",
        "            Node_cliente = Node_cliente.proximo\n",
        "        return medias\n",
        "\n",
        "\n"
      ],
      "metadata": {
        "id": "qhc_elHysZin"
      },
      "execution_count": 19,
      "outputs": []
    },
    {
      "cell_type": "code",
      "source": [
        "calc = CalMedia()\n",
        "\n",
        "\n",
        "Diana = Cliente(\"Diana\", 50.0)\n",
        "Diana.adicionar_gasto(30.0)\n",
        "Diana.adicionar_gasto(40.0)\n",
        "\n",
        "Dayane = Cliente(\"Dayane\", 75.0)\n",
        "Dayane.adicionar_gasto(80.0)\n",
        "\n",
        "Daniel = Cliente(\"Daniel\", 100.0)\n",
        "Daniel.adicionar_gasto(120.0)\n",
        "Daniel.adicionar_gasto(90.0)\n",
        "\n",
        "calc.adicionarCliente(Diana)\n",
        "calc.adicionarCliente(Dayane)\n",
        "calc.adicionarCliente(Daniel)\n",
        "\n"
      ],
      "metadata": {
        "id": "rBzZZHt2sccl"
      },
      "execution_count": 20,
      "outputs": []
    },
    {
      "cell_type": "code",
      "source": [
        "def VerificarParenteses(expressao):\n",
        "\n",
        "  pilha = []\n",
        "\n",
        "  for char in expressao:\n",
        "    if char == '(':\n",
        "      pilha.append(char)\n",
        "    elif char == ')':\n",
        "      if not pilha:\n",
        "        return False\n",
        "      else:\n",
        "        pilha.pop()\n",
        "  return len(pilha) == 0"
      ],
      "metadata": {
        "id": "_wZNAGxItHst"
      },
      "execution_count": 22,
      "outputs": []
    },
    {
      "cell_type": "code",
      "source": [
        "expressao1 = \"(()()()())\"\n",
        "expressao2 = \"(((())))\"\n",
        "expressao3 = \"(()((())()))\"\n",
        "expressao4 = \"(((()))\"\n",
        "expressao5 = \"((((((())\"\n",
        "expressao6 = \"()))\"\n",
        "expressao7 = \"(()()(()\""
      ],
      "metadata": {
        "id": "gNPCcjXzvoic"
      },
      "execution_count": 23,
      "outputs": []
    }
  ]
}